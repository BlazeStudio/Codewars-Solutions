{
 "cells": [
  {
   "cell_type": "markdown",
   "source": [
    "__[Codewars Link](https://www.codewars.com/kata/5e60cdcd01712200335bd676)__\n",
    "\n",
    "# Rename Columns\n",
    "\n",
    "## Input parameters\n",
    "\n",
    "1. pandas.DataFrame object\n",
    "2. sequence\n",
    "\n",
    "## Task\n",
    "Your function must return a new pandas.DataFrame object with same data than the original input but now its column names are the elements of the sequence. You must not modify the original input.\n",
    "\n",
    "The number of columns of the input will always be equal to the size of the sequence.\n"
   ],
   "metadata": {
    "collapsed": false
   }
  },
  {
   "cell_type": "code",
   "execution_count": 2,
   "outputs": [],
   "source": [
    "import pandas as pd\n",
    "\n",
    "def rename_columns(df, names):\n",
    "    df2 = df.copy()\n",
    "    df2.columns = names\n",
    "    return df2"
   ],
   "metadata": {
    "collapsed": false,
    "ExecuteTime": {
     "start_time": "2024-06-13T16:48:56.035672Z",
     "end_time": "2024-06-13T16:48:56.038860Z"
    }
   }
  }
 ],
 "metadata": {
  "kernelspec": {
   "display_name": "Python 3",
   "language": "python",
   "name": "python3"
  },
  "language_info": {
   "codemirror_mode": {
    "name": "ipython",
    "version": 2
   },
   "file_extension": ".py",
   "mimetype": "text/x-python",
   "name": "python",
   "nbconvert_exporter": "python",
   "pygments_lexer": "ipython2",
   "version": "2.7.6"
  }
 },
 "nbformat": 4,
 "nbformat_minor": 0
}
