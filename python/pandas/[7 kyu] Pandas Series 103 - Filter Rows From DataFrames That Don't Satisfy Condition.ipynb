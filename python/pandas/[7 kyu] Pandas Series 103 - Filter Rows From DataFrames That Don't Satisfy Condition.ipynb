{
 "cells": [
  {
   "cell_type": "markdown",
   "source": [
    "__[Codewars Link](https://www.codewars.com/kata/5ea2baed9345eb001e8ce394)__\n",
    "\n",
    "# Filter Rows From DataFrames That Don't Satisfy Condition\n",
    "## Input parameters\n",
    "1. dataframe: pandas.DataFrame object\n",
    "2. col: target column\n",
    "3. func: filter function\n",
    "\n",
    "## Task\n",
    "\n",
    "Your function must return a new pandas.DataFrame object with the same columns as the original input. However, include only the rows whose cell values in the designated column evaluate to False by func.\n",
    "\n",
    "Input DataFrame will never be empty. The target column will always be one of the dataframe columns. Filter function will be a valid one. Index value must remain the same."
   ],
   "metadata": {
    "collapsed": false
   }
  },
  {
   "cell_type": "code",
   "execution_count": 1,
   "outputs": [
    {
     "name": "stderr",
     "output_type": "stream",
     "text": [
      "C:\\Users\\Blaze\\AppData\\Local\\Temp\\ipykernel_7984\\3014220140.py:1: DeprecationWarning: \n",
      "Pyarrow will become a required dependency of pandas in the next major release of pandas (pandas 3.0),\n",
      "(to allow more performant data types, such as the Arrow string type, and better interoperability with other libraries)\n",
      "but was not found to be installed on your system.\n",
      "If this would cause problems for you,\n",
      "please provide us feedback at https://github.com/pandas-dev/pandas/issues/54466\n",
      "        \n",
      "  import pandas as pd\n"
     ]
    }
   ],
   "source": [
    "import pandas as pd\n",
    "\n",
    "def filter_dataframe(df, col, func): return df[func(df[col]) == False]"
   ],
   "metadata": {
    "collapsed": false,
    "ExecuteTime": {
     "start_time": "2024-06-13T16:44:39.691698Z",
     "end_time": "2024-06-13T16:44:39.925949Z"
    }
   }
  }
 ],
 "metadata": {
  "kernelspec": {
   "display_name": "Python 3",
   "language": "python",
   "name": "python3"
  },
  "language_info": {
   "codemirror_mode": {
    "name": "ipython",
    "version": 2
   },
   "file_extension": ".py",
   "mimetype": "text/x-python",
   "name": "python",
   "nbconvert_exporter": "python",
   "pygments_lexer": "ipython2",
   "version": "2.7.6"
  }
 },
 "nbformat": 4,
 "nbformat_minor": 0
}
