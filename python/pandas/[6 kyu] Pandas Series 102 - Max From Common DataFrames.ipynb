{
 "cells": [
  {
   "cell_type": "markdown",
   "source": [
    "# Max From Common DataFrames\n",
    "\n",
    "## Input parameters\n",
    "Two pandas.DataFrame objects\n",
    "\n",
    "## Task\n",
    "Your function must return a new pandas.DataFrame with the same data and columns from the first parameter. For common columns in both inputs you must return the greater value of each cell for that column.\n",
    "\n",
    "You must not modify the original inputs.\n",
    "\n",
    "Input DataFrame will never be empty. The number rows of both inputs will be the same."
   ],
   "metadata": {
    "collapsed": false
   }
  },
  {
   "cell_type": "code",
   "execution_count": 2,
   "outputs": [],
   "source": [
    "import pandas as pd\n",
    "\n",
    "def max_common(df_a, df_b):\n",
    "    df_c = df_a.copy()\n",
    "    for series_name, series in df_c.items():\n",
    "        for i in range(df_c.shape[0]):\n",
    "            if series_name in df_b.columns: df_c.loc[i ,series_name] = max(df_c.loc[i ,series_name], df_b.loc[i ,series_name])\n",
    "    return df_c"
   ],
   "metadata": {
    "collapsed": false,
    "ExecuteTime": {
     "start_time": "2024-06-13T16:48:49.109356Z",
     "end_time": "2024-06-13T16:48:49.114384Z"
    }
   }
  }
 ],
 "metadata": {
  "kernelspec": {
   "display_name": "Python 3",
   "language": "python",
   "name": "python3"
  },
  "language_info": {
   "codemirror_mode": {
    "name": "ipython",
    "version": 2
   },
   "file_extension": ".py",
   "mimetype": "text/x-python",
   "name": "python",
   "nbconvert_exporter": "python",
   "pygments_lexer": "ipython2",
   "version": "2.7.6"
  }
 },
 "nbformat": 4,
 "nbformat_minor": 0
}
